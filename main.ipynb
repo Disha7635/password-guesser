{
 "cells": [
  {
   "cell_type": "code",
   "execution_count": null,
   "id": "c837d46c-0759-4fb8-b727-99527865f214",
   "metadata": {},
   "outputs": [],
   "source": [
    "import pickle\n",
    "\n",
    "stats = {}\n",
    "max_ngrams = 3\n",
    "\n",
    "def ngram(line, n):\n",
    "\toutput = []\n",
    "\tfor i, char in enumerate(line):\n",
    "\t\tif i - n < 0:\n",
    "\t\t\tbuff = ''\n",
    "\t\t\tfor j in range(abs(i - n)):\n",
    "\t\t\t\tbuff += '`'\n",
    "\t\t\tbuff += line[0:i]\n",
    "\t\t\toutput.append((buff, char))\n",
    "\t\telse:\n",
    "\t\t\toutput.append((line[i - n:i], char))\n",
    "\treturn output\n",
    "\n",
    "with open('train.txt',encoding='latin-1') as file:\n",
    "\tfor line in file:\n",
    "\t\tfor i in range(max_ngrams):\n",
    "\t\t\tfor gram in ngram(line, i + 1):\n",
    "\t\t\t\tprev = gram[0] # previous characters, ngram\n",
    "\t\t\t\tnxt = gram[1] # next character\n",
    "\t\t\t\tif not prev in stats:\n",
    "\t\t\t\t\tstats[prev] = {}\n",
    "\t\t\t\tif not nxt in stats[prev]:\n",
    "\t\t\t\t\tstats[prev][nxt] = 0\n",
    "\t\t\t\tstats[prev][nxt] += 1\n",
    " \n",
    "# convert frequency counts to probabilities\n",
    "for ngram in stats:\n",
    "\t\n",
    "\tchars = []\n",
    "\toccur = []\n",
    "\tprobs = []\n",
    "\n",
    "\tfor key, value in stats[ngram].items():\n",
    "\t\tchars.append(key)\n",
    "\t\toccur.append(value)\n",
    "\n",
    "\ttotal = sum(occur)\n",
    "\tprobs = [float(x) / float(total) for x in occur]\n",
    "\n",
    "\tfor key, value in stats[ngram].items():\n",
    "\t\tstats[ngram][key] = float(value) / float(total)\n",
    "\n",
    "# save \n",
    "with open('{}-gram.pickle'.format(max_ngrams), 'wb') as file:\n",
    "\tpickle.dump(stats, file)"
   ]
  },
  {
   "cell_type": "code",
   "execution_count": 5,
   "id": "abfb3933-a807-4410-b684-49756228b76e",
   "metadata": {},
   "outputs": [],
   "source": [
    "with open('3-gram.pickle'.format(max_ngrams),'rb') as file:\n",
    "\tstats = pickle.load(file)\n",
    "from cryptography.fernet import Fernet\n",
    "key=Fernet.generate_key()\n",
    "cipher=Fernet(key)\n",
    "serialized_data = pickle.dumps(stats)\n",
    "encrypted_data = cipher.encrypt(serialized_data)\n"
   ]
  },
  {
   "cell_type": "code",
   "execution_count": null,
   "id": "ccf28949-daca-4742-8890-695a4a91c7c8",
   "metadata": {},
   "outputs": [],
   "source": []
  }
 ],
 "metadata": {
  "kernelspec": {
   "display_name": "Python 3 (ipykernel)",
   "language": "python",
   "name": "python3"
  },
  "language_info": {
   "codemirror_mode": {
    "name": "ipython",
    "version": 3
   },
   "file_extension": ".py",
   "mimetype": "text/x-python",
   "name": "python",
   "nbconvert_exporter": "python",
   "pygments_lexer": "ipython3",
   "version": "3.11.0"
  }
 },
 "nbformat": 4,
 "nbformat_minor": 5
}
